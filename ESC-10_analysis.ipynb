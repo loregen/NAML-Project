{
 "cells": [
  {
   "cell_type": "code",
   "execution_count": null,
   "metadata": {},
   "outputs": [],
   "source": [
    "import numpy as np\n",
    "import pandas as pd\n",
    "import matplotlib.pyplot as plt\n",
    "import librosa "
   ]
  },
  {
   "cell_type": "code",
   "execution_count": null,
   "metadata": {},
   "outputs": [],
   "source": [
    "# Load dataset metadata\n",
    "metadata = pd.read_csv('ESC-50-master/meta/esc50.csv')"
   ]
  },
  {
   "cell_type": "code",
   "execution_count": null,
   "metadata": {},
   "outputs": [],
   "source": [
    "whole_ESC_50 = True\n",
    "\n",
    "metadata = metadata[metadata['esc10']] if not whole_ESC_50 else metadata"
   ]
  },
  {
   "cell_type": "code",
   "execution_count": null,
   "metadata": {},
   "outputs": [],
   "source": [
    "# Get the duration and sampling rate of each file\n",
    "\n",
    "time_durations = [librosa.get_duration(path='ESC-50-master/audio/'+file) for file in metadata['filename']]\n",
    "sampling_rates = [librosa.get_samplerate(path='ESC-50-master/audio/'+file) for file in metadata['filename']]"
   ]
  },
  {
   "cell_type": "code",
   "execution_count": null,
   "metadata": {},
   "outputs": [],
   "source": [
    "metadata['duration'] = time_durations\n",
    "metadata['sampling_rate'] = sampling_rates\n",
    "\n",
    "metadata.describe()"
   ]
  },
  {
   "cell_type": "markdown",
   "metadata": {},
   "source": [
    "We see that in this dataset, each audio sample is exactly 5 seconds long and sampled at 44.1 kHz. So, differently from UrbanSound8K, we won't need to pad or truncate the audio samples. We can just use them as they are, as they are already uniform in length."
   ]
  }
 ],
 "metadata": {
  "kernelspec": {
   "display_name": "tensorflow_env_stable",
   "language": "python",
   "name": "python3"
  },
  "language_info": {
   "codemirror_mode": {
    "name": "ipython",
    "version": 3
   },
   "file_extension": ".py",
   "mimetype": "text/x-python",
   "name": "python",
   "nbconvert_exporter": "python",
   "pygments_lexer": "ipython3",
   "version": "3.11.8"
  }
 },
 "nbformat": 4,
 "nbformat_minor": 2
}
